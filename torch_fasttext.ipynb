{
 "cells": [
  {
   "cell_type": "code",
   "execution_count": 11,
   "metadata": {},
   "outputs": [],
   "source": [
    "from imdb_fasttext import lazy_load_imdb_data, fastText_keras\n",
    "import torch\n",
    "import torch.nn as nn\n",
    "from torch.autograd import Variable\n",
    "from torch.optim import SGD, Adagrad # Adam doesn't currently support autograd with embedding layers"
   ]
  },
  {
   "cell_type": "code",
   "execution_count": 2,
   "metadata": {
    "scrolled": false
   },
   "outputs": [
    {
     "name": "stdout",
     "output_type": "stream",
     "text": [
      "Lazy load successful\n"
     ]
    },
    {
     "data": {
      "text/plain": [
       "(25000, 400)"
      ]
     },
     "execution_count": 2,
     "metadata": {},
     "output_type": "execute_result"
    }
   ],
   "source": [
    "(x_train, y_train), (x_test, y_test) = lazy_load_imdb_data()\n",
    "x_train.shape"
   ]
  },
  {
   "cell_type": "code",
   "execution_count": 3,
   "metadata": {
    "scrolled": true
   },
   "outputs": [
    {
     "name": "stdout",
     "output_type": "stream",
     "text": [
      "Build model...\n",
      "_________________________________________________________________\n",
      "Layer (type)                 Output Shape              Param #   \n",
      "=================================================================\n",
      "embedding_1 (Embedding)      (None, 400, 50)           1000000   \n",
      "_________________________________________________________________\n",
      "global_average_pooling1d_1 ( (None, 50)                0         \n",
      "_________________________________________________________________\n",
      "dense_1 (Dense)              (None, 2)                 102       \n",
      "=================================================================\n",
      "Total params: 1,000,102\n",
      "Trainable params: 1,000,102\n",
      "Non-trainable params: 0\n",
      "_________________________________________________________________\n",
      "None\n",
      "_________________________________________________________________\n",
      "Layer (type)                 Output Shape              Param #   \n",
      "=================================================================\n",
      "embedding_1 (Embedding)      (None, 400, 50)           1000000   \n",
      "_________________________________________________________________\n",
      "global_average_pooling1d_1 ( (None, 50)                0         \n",
      "_________________________________________________________________\n",
      "dense_1 (Dense)              (None, 2)                 102       \n",
      "=================================================================\n",
      "Total params: 1,000,102\n",
      "Trainable params: 1,000,102\n",
      "Non-trainable params: 0\n",
      "_________________________________________________________________\n"
     ]
    }
   ],
   "source": [
    "fastText_keras(max_features=20000, embedding_dims=50, maxlen=400).summary()"
   ]
  },
  {
   "cell_type": "code",
   "execution_count": 4,
   "metadata": {
    "collapsed": true
   },
   "outputs": [],
   "source": [
    "class TorchFastText(nn.Module):\n",
    "    \n",
    "    def __init__(self, max_features, embedding_dims, maxlen, num_classes=2):\n",
    "        super(TorchFastText, self).__init__()\n",
    "        self.max_features = max_features\n",
    "        self.embedding_dims = embedding_dims\n",
    "        self.maxlen = maxlen\n",
    "        self.num_classes = num_classes\n",
    "        \n",
    "        self.embeds = nn.EmbeddingBag(max_features, embedding_dims, mode='mean')\n",
    "        self.linear = nn.Linear(self.embedding_dims, self.num_classes)\n",
    "        \n",
    "    def forward(self, x):\n",
    "        embedded_sentence = self.embeds(x)\n",
    "        z = self.linear(embedded_sentence)\n",
    "        predicted = nn.functional.softmax(z)\n",
    "        return predicted\n",
    "\n",
    "N = 32\n",
    "max_features = 20000\n",
    "embedding_dims = 50\n",
    "maxlen = 400\n",
    "model = TorchFastText(max_features, embedding_dims, maxlen)    "
   ]
  },
  {
   "cell_type": "code",
   "execution_count": 12,
   "metadata": {
    "collapsed": true,
    "scrolled": true
   },
   "outputs": [],
   "source": [
    "binary_loss = nn.BCELoss()\n",
    "optimizer = Adagrad(model.parameters(), lr=0.01)"
   ]
  },
  {
   "cell_type": "code",
   "execution_count": 6,
   "metadata": {
    "collapsed": true
   },
   "outputs": [],
   "source": [
    "from torch.utils.data import Dataset, DataLoader\n",
    "\n",
    "class MyData(Dataset):\n",
    "    def __init__(self, x, y):\n",
    "        self.x = x\n",
    "        self.y = y\n",
    "        print(f\"x.shape: {self.x.shape}\")\n",
    "        print(f\"y.shape: {self.y.shape}\")\n",
    "        \n",
    "    def __len__(self):\n",
    "        return self.y.shape[0]\n",
    "    \n",
    "    def __getitem__(self, idx):\n",
    "        y_i = torch.FloatTensor(self.y[idx, :])\n",
    "        x_i = torch.LongTensor(self.x[idx].tolist())\n",
    "\n",
    "        return {\"x\":x_i, \"y\":y_i}\n",
    "    "
   ]
  },
  {
   "cell_type": "code",
   "execution_count": 7,
   "metadata": {},
   "outputs": [
    {
     "name": "stdout",
     "output_type": "stream",
     "text": [
      "x.shape: (25000, 400)\n",
      "y.shape: (25000, 2)\n",
      "x.shape: (25000, 400)\n",
      "y.shape: (25000, 2)\n"
     ]
    }
   ],
   "source": [
    "training_data = MyData(x_train, y_train)\n",
    "testing_data = MyData(x_test, y_test)\n",
    "\n",
    "training_loader = DataLoader(training_data, batch_size=1)\n",
    "testing_loader = DataLoader(testing_data, batch_size=1)"
   ]
  },
  {
   "cell_type": "code",
   "execution_count": 13,
   "metadata": {
    "scrolled": true
   },
   "outputs": [],
   "source": [
    "def train(epoch):\n",
    "    print('-'*10)\n",
    "    print(f'Epoch: {epoch+1}')\n",
    "    for batch in training_loader:\n",
    "        # Get the inputs and wrap as Variables\n",
    "        batch_x = Variable(batch[\"x\"])\n",
    "        batch_y = Variable(batch[\"y\"])\n",
    "    \n",
    "        # zero the parameter gradients\n",
    "        optimizer.zero_grad()\n",
    "\n",
    "        # forward + backward + optimize\n",
    "        outputs = model(batch_x)\n",
    "        loss = binary_loss(outputs, batch_y)\n",
    "        loss.backward()\n",
    "        optimizer.step()"
   ]
  },
  {
   "cell_type": "code",
   "execution_count": 14,
   "metadata": {},
   "outputs": [],
   "source": [
    "# inspiration: https://github.com/pytorch/examples/blob/master/mnist/main.py\n",
    "def test():\n",
    "    model.eval()\n",
    "    test_loss = 0\n",
    "    correct = 0\n",
    "    for batch in testing_loader:\n",
    "        batch[\"x\"], batch[\"y\"] = Variable(batch[\"x\"]), Variable(batch[\"y\"])\n",
    "        outputs = model(batch[\"x\"])\n",
    "        test_loss += binary_loss(outputs, batch['y'])\n",
    "        prediction = outputs.data.max(1, keepdim=True)[1]\n",
    "        label = batch['y'].data.max(1, keepdim=True)[1]\n",
    "        correct += prediction.eq(torch.LongTensor(label)).sum()\n",
    "    \n",
    "    test_loss /= len(testing_loader.dataset)\n",
    "    accuracy = 100. * correct / len(testing_loader.dataset)\n",
    "    print(f'Average Test loss: {test_loss.data}')\n",
    "    print(f'Accuracy: {accuracy}')\n"
   ]
  },
  {
   "cell_type": "code",
   "execution_count": null,
   "metadata": {},
   "outputs": [
    {
     "name": "stdout",
     "output_type": "stream",
     "text": [
      "----------\n",
      "Epoch: 1\n"
     ]
    },
    {
     "name": "stderr",
     "output_type": "stream",
     "text": [
      "/home/aarurane/miniconda3/lib/python3.6/site-packages/ipykernel_launcher.py:16: UserWarning: Implicit dimension choice for softmax has been deprecated. Change the call to include dim=X as an argument.\n",
      "  app.launch_new_instance()\n"
     ]
    },
    {
     "name": "stdout",
     "output_type": "stream",
     "text": [
      "Average Test loss: \n",
      " 0.5044\n",
      "[torch.FloatTensor of size 1]\n",
      "\n",
      "Accuracy: 78.508\n",
      "----------\n",
      "Epoch: 2\n",
      "Average Test loss: \n",
      " 0.4716\n",
      "[torch.FloatTensor of size 1]\n",
      "\n",
      "Accuracy: 80.8\n",
      "----------\n",
      "Epoch: 3\n"
     ]
    }
   ],
   "source": [
    "n_epochs = 5\n",
    "\n",
    "for i in range(n_epochs):\n",
    "    train(i)\n",
    "    test()"
   ]
  },
  {
   "cell_type": "code",
   "execution_count": null,
   "metadata": {
    "collapsed": true
   },
   "outputs": [],
   "source": []
  }
 ],
 "metadata": {
  "kernelspec": {
   "display_name": "Python 3",
   "language": "python",
   "name": "python3"
  },
  "language_info": {
   "codemirror_mode": {
    "name": "ipython",
    "version": 3
   },
   "file_extension": ".py",
   "mimetype": "text/x-python",
   "name": "python",
   "nbconvert_exporter": "python",
   "pygments_lexer": "ipython3",
   "version": "3.6.0"
  }
 },
 "nbformat": 4,
 "nbformat_minor": 2
}
